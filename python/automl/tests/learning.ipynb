{
 "cells": [
  {
   "cell_type": "code",
   "execution_count": 3,
   "metadata": {},
   "outputs": [
    {
     "name": "stdout",
     "output_type": "stream",
     "text": [
      "../autoselect/.env\n",
      "/Users/treasures_y/Documents/code/HG/AutoML/python/automl/autoselect/.env\n"
     ]
    }
   ],
   "source": [
    "import os\n",
    "ENV_FILE_PATH = os.path.join(os.pardir, 'autoselect', '.env')\n",
    "print(ENV_FILE_PATH)\n",
    "\n",
    "print(os.path.abspath(ENV_FILE_PATH))"
   ]
  },
  {
   "cell_type": "code",
   "execution_count": 4,
   "metadata": {},
   "outputs": [
    {
     "name": "stdout",
     "output_type": "stream",
     "text": [
      "{'tp_batch_size': 32, 'tp_epochs': 100, 'tp_validation_split': 0.2}\n",
      "{'tp_batch_size': 32, 'tp_epochs': 100, 'tp_validation_split': 0.2, 'task_type': 'task', 'model_type': 'type'}\n"
     ]
    }
   ],
   "source": [
    "training_params = {\n",
    "    \"tp_batch_size\": 32,\n",
    "    \"tp_epochs\": 100,\n",
    "    \"tp_validation_split\": 0.2,\n",
    "}\n",
    "print(training_params)\n",
    "base_attribute_dict = {\n",
    "    'task_type': 'task',\n",
    "    'model_type': 'type',\n",
    "}\n",
    "training_params.update(base_attribute_dict)\n",
    "print(training_params)\n"
   ]
  },
  {
   "cell_type": "code",
   "execution_count": null,
   "metadata": {},
   "outputs": [],
   "source": []
  }
 ],
 "metadata": {
  "kernelspec": {
   "display_name": "treasures",
   "language": "python",
   "name": "python3"
  },
  "language_info": {
   "codemirror_mode": {
    "name": "ipython",
    "version": 3
   },
   "file_extension": ".py",
   "mimetype": "text/x-python",
   "name": "python",
   "nbconvert_exporter": "python",
   "pygments_lexer": "ipython3",
   "version": "3.8.9"
  }
 },
 "nbformat": 4,
 "nbformat_minor": 2
}
