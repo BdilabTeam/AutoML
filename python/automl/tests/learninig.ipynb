{
 "cells": [
  {
   "cell_type": "code",
   "execution_count": 23,
   "metadata": {},
   "outputs": [],
   "source": [
    "import requests\n",
    "\n",
    "endpoint_name = \"densenet-test\"\n",
    "data = {\n",
    "    \"instances\": [[0.92, 0.4, 0.17, 0.97, 0.6, 0.31, 0.38, 0.25, 0.96, 0.79, 707, 0.3, 3.13, 842]]\n",
    "}\n",
    "headers = {\n",
    "    \"Host\": f\"{endpoint_name}.zauto.example.com\",\n",
    "    \"ce-id\": \"1\",\n",
    "    \"ce-specversion\": \"1.0\",\n",
    "    \"ce-type\": \"test\",\n",
    "    \"ce-source\": \"test\"\n",
    "}\n",
    "res = requests.post(\n",
    "    f\"http://124.70.188.119:32300/v2/models/{endpoint_name}/infer\",\n",
    "    headers=headers,\n",
    "    json=data\n",
    ")\n",
    "if res.status_code == 200:\n",
    "    print(res.json())"
   ]
  },
  {
   "cell_type": "code",
   "execution_count": 2,
   "metadata": {},
   "outputs": [
    {
     "name": "stdout",
     "output_type": "stream",
     "text": [
      "Downloading data from https://storage.googleapis.com/tensorflow/tf-keras-datasets/mnist.npz\n",
      "11490434/11490434 [==============================] - 2s 0us/step\n"
     ]
    },
    {
     "data": {
      "text/plain": [
       "array([7, 2, 1, ..., 4, 5, 6], dtype=uint8)"
      ]
     },
     "execution_count": 2,
     "metadata": {},
     "output_type": "execute_result"
    }
   ],
   "source": [
    "from keras.datasets import mnist\n",
    "\n",
    "(x_train, y_train), (x_test, y_test) = mnist.load_data()\n",
    "y_test"
   ]
  }
 ],
 "metadata": {
  "kernelspec": {
   "display_name": "automl",
   "language": "python",
   "name": "python3"
  },
  "language_info": {
   "codemirror_mode": {
    "name": "ipython",
    "version": 3
   },
   "file_extension": ".py",
   "mimetype": "text/x-python",
   "name": "python",
   "nbconvert_exporter": "python",
   "pygments_lexer": "ipython3",
   "version": "3.9.18"
  }
 },
 "nbformat": 4,
 "nbformat_minor": 2
}
