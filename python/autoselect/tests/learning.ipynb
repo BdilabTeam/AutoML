{
 "cells": [
  {
   "cell_type": "code",
   "execution_count": 1,
   "metadata": {},
   "outputs": [
    {
     "name": "stdout",
     "output_type": "stream",
     "text": [
      "hello world\n"
     ]
    }
   ],
   "source": [
    "!pip install langchain-openai\n",
    "!pip install beautifulsoup4\n",
    "!pip install faiss-cpu\n",
    "!pip install chromadb\n",
    "!pip install python-dotenv\n"
   ]
  },
  {
   "cell_type": "markdown",
   "metadata": {},
   "source": [
    "# 加载环境变量"
   ]
  },
  {
   "cell_type": "code",
   "execution_count": 1,
   "metadata": {},
   "outputs": [
    {
     "data": {
      "text/plain": [
       "True"
      ]
     },
     "execution_count": 1,
     "metadata": {},
     "output_type": "execute_result"
    }
   ],
   "source": [
    "from dotenv import load_dotenv\n",
    "\n",
    "res = load_dotenv(\"/Users/treasures_y/Documents/code/HG/AutoML/python/autoselect/autoselect/autoselect/.env\")\n",
    "res"
   ]
  },
  {
   "cell_type": "code",
   "execution_count": 3,
   "metadata": {},
   "outputs": [
    {
     "data": {
      "text/plain": [
       "AIMessage(content='Langsmith can help with testing by providing automated testing solutions, such as test scripts and frameworks. They can also assist with setting up testing environments, running tests, and analyzing the results. Additionally, Langsmith can provide expertise in testing best practices and help identify areas for improvement in the testing process. Overall, Langsmith can support organizations in improving the efficiency and effectiveness of their testing efforts.')"
      ]
     },
     "execution_count": 3,
     "metadata": {},
     "output_type": "execute_result"
    }
   ],
   "source": [
    "from langchain_openai import ChatOpenAI\n",
    "\n",
    "llm = ChatOpenAI()\n",
    "llm.invoke(\"how can langsmith help with testing?\")"
   ]
  },
  {
   "cell_type": "code",
   "execution_count": 14,
   "metadata": {},
   "outputs": [
    {
     "data": {
      "text/plain": [
       "AIMessage(content='Langsmith can help with testing in several ways:\\n\\n1. Automated Testing: Langsmith can be used to generate test data for automated testing. By creating various language variations of test data, Langsmith can help ensure that the software being tested can handle different languages and cultural conventions.\\n\\n2. Localization Testing: Langsmith can generate localized versions of content, allowing testers to verify that the software displays and handles different languages and cultural conventions correctly.\\n\\n3. Language-specific Testing: Langsmith can help in testing language-specific functionalities such as language detection, transliteration, and translation.\\n\\n4. Performance Testing: Langsmith can be used to generate a large volume of language-specific data to test the performance of the software under different language and character set scenarios.\\n\\n5. Regression Testing: Langsmith can be used to create consistent and reproducible test data, which is essential for regression testing to ensure that new changes do not introduce issues with language-specific functionalities.\\n\\nIn summary, Langsmith can be a valuable tool in testing software for language-related issues, ensuring that it functions correctly across different languages and cultural contexts.')"
      ]
     },
     "execution_count": 14,
     "metadata": {},
     "output_type": "execute_result"
    }
   ],
   "source": [
    "from langchain_core.prompts import ChatPromptTemplate\n",
    "\n",
    "prompt = ChatPromptTemplate.from_messages([\n",
    "    (\"system\", \"You are world class technical documentation writer.\"),\n",
    "    (\"user\", \"{input}\")\n",
    "])\n",
    "\n",
    "chain = prompt | llm\n",
    "\n",
    "chain.invoke({\"input\": \"how can langsmith help with testing?\"})"
   ]
  },
  {
   "cell_type": "code",
   "execution_count": 15,
   "metadata": {},
   "outputs": [
    {
     "data": {
      "text/plain": [
       "'Langsmith is a powerful tool that can greatly assist with testing in various ways:\\n\\n1. Test Data Generation: Langsmith can be used to generate realistic and diverse test data, covering a wide range of input variations and edge cases. This can help in creating comprehensive test suites for various scenarios and ensuring thorough test coverage.\\n\\n2. Test Automation: Langsmith can be integrated with testing frameworks and tools to automate the process of generating test data and executing test cases. This automation can significantly speed up the testing process and improve overall test efficiency.\\n\\n3. Test Case Expansion: Langsmith can be used to expand existing test cases by generating additional test data or input combinations, enabling testers to explore different potential scenarios and uncover hidden bugs or issues.\\n\\n4. Performance Testing: Langsmith can assist in creating large-scale test data sets to simulate real-world usage scenarios, aiding in performance testing and identifying any performance bottlenecks or issues.\\n\\n5. Security Testing: Langsmith can be used to generate diverse input data to test the security of applications, including input validation, data sanitization, and other security-related aspects.\\n\\nOverall, Langsmith can play a crucial role in enhancing the effectiveness and efficiency of testing processes, enabling testers to create more comprehensive and robust test suites and improve overall software quality.'"
      ]
     },
     "execution_count": 15,
     "metadata": {},
     "output_type": "execute_result"
    }
   ],
   "source": [
    "from langchain_core.output_parsers import StrOutputParser\n",
    "\n",
    "output_parser = StrOutputParser()\n",
    "\n",
    "chain = prompt | llm | output_parser\n",
    "\n",
    "chain.invoke({\"input\": \"how can langsmith help with testing?\"})"
   ]
  },
  {
   "cell_type": "markdown",
   "metadata": {},
   "source": [
    "# Retrieval chain"
   ]
  },
  {
   "cell_type": "code",
   "execution_count": null,
   "metadata": {},
   "outputs": [],
   "source": [
    "from langchain_openai import OpenAIEmbeddings, ChatOpenAI\n",
    "\n",
    "from langchain_community.document_loaders import WebBaseLoader\n",
    "from langchain.text_splitter import RecursiveCharacterTextSplitter\n",
    "from langchain_community.vectorstores import FAISS\n",
    "\n",
    "from langchain.chains.combine_documents import create_stuff_documents_chain\n",
    "from langchain.chains import create_retrieval_chain\n",
    "\n",
    "\n",
    "llm = ChatOpenAI()\n",
    "embeddings = OpenAIEmbeddings()\n",
    "\n",
    "loader = WebBaseLoader(\"https://docs.smith.langchain.com/overview\")\n",
    "docs = loader.load()\n",
    "\n",
    "text_splitter = RecursiveCharacterTextSplitter()\n",
    "documents = text_splitter.split_documents(docs)\n",
    "\n",
    "vector = FAISS.from_documents(documents, embeddings)\n",
    "\n",
    "prompt = ChatPromptTemplate.from_template(\n",
    "    \"\"\"Answer the following question based only on the provided context:\n",
    "    <context>\n",
    "    {context}\n",
    "    </context>\n",
    "    \n",
    "    Question: {input}\"\"\"\n",
    ")\n",
    "document_chain = create_stuff_documents_chain(llm=llm, prompt=prompt)\n",
    "\n",
    "retriever = vector.as_retriever()\n",
    "retrieval_chain = create_retrieval_chain(retriever=retriever, combine_docs_chain=document_chain)\n",
    "\n",
    "response = retrieval_chain.invoke({\"input\": \"how can langsmith help with testing?\"})\n",
    "print(response[\"answer\"])\n",
    "\n"
   ]
  },
  {
   "cell_type": "code",
   "execution_count": null,
   "metadata": {},
   "outputs": [],
   "source": []
  }
 ],
 "metadata": {
  "kernelspec": {
   "display_name": "llm",
   "language": "python",
   "name": "python3"
  },
  "language_info": {
   "codemirror_mode": {
    "name": "ipython",
    "version": 3
   },
   "file_extension": ".py",
   "mimetype": "text/x-python",
   "name": "python",
   "nbconvert_exporter": "python",
   "pygments_lexer": "ipython3",
   "version": "3.8.9"
  }
 },
 "nbformat": 4,
 "nbformat_minor": 2
}
