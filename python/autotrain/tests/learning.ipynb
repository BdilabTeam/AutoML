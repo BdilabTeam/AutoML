{
 "cells": [
  {
   "cell_type": "code",
   "execution_count": null,
   "metadata": {},
   "outputs": [],
   "source": [
    "import autokeras as ak\n",
    "import numpy as np\n",
    "from keras.datasets import mnist\n",
    "import tensorflow as tf"
   ]
  },
  {
   "cell_type": "code",
   "execution_count": null,
   "metadata": {},
   "outputs": [],
   "source": [
    "import os\n",
    "import glob\n",
    "import numpy as np\n",
    "\n",
    "train_dir = \"/Users/treasures/Downloads/image_classification_training/data/train\"\n",
    "items = os.listdir(train_dir)\n",
    "# 获取'文件夹'名称\n",
    "folder_names = [item for item in items if os.path.isdir(os.path.join(train_dir, item))]\n",
    "\n",
    "file_paths = []\n",
    "labels = []\n",
    "for folder_name in folder_names:\n",
    "    files = glob.glob(os.path.join(train_dir, folder_name, '*'))\n",
    "    file_paths.extend(files)\n",
    "    labels.extend([folder_name] * len(files))\n",
    "\n",
    "dataset = tf.data.Dataset.from_tensor_slices((file_paths, labels))\n",
    "\n",
    "def load_image(file_path, label):\n",
    "    image = tf.io.read_file(file_path)\n",
    "    image = tf.image.decode_image(image, channels=3)\n",
    "    return image, label\n",
    "\n",
    "dataset = dataset.map(load_image)\n",
    "# print(dataset)\n",
    "x_train = []\n",
    "y_train = []\n",
    "for x, y in dataset:\n",
    "    x_train.append(x)\n",
    "    y_train.append(y)\n",
    "# 将特征和标签转换为张量\n",
    "x_train = np.asarray(tf.stack(x_train))\n",
    "y_train = np.asarray(tf.stack(y_train))\n"
   ]
  },
  {
   "cell_type": "code",
   "execution_count": null,
   "metadata": {},
   "outputs": [],
   "source": [
    "# (x_train, y_train), (x_test, y_test) = mnist.load_data()\n",
    "# print(x_train)\n",
    "# print(x_train.shape)"
   ]
  },
  {
   "cell_type": "code",
   "execution_count": 4,
   "metadata": {},
   "outputs": [],
   "source": [
    "input_node = ak.ImageInput()\n",
    "output_node = ak.ResNetBlock(version=\"v2\")(input_node)\n",
    "output_node = ak.ClassificationHead()(output_node)"
   ]
  },
  {
   "cell_type": "code",
   "execution_count": null,
   "metadata": {},
   "outputs": [],
   "source": [
    "clf = ak.AutoModel(inputs=input_node, outputs=output_node, overwrite=True, max_trials=1, objective=None)\n",
    "# clf.fit(x_train, y_train, epochs=1)\n",
    "clf.fit(x=x_train, y=y_train, epochs=1)"
   ]
  },
  {
   "cell_type": "code",
   "execution_count": 3,
   "metadata": {},
   "outputs": [
    {
     "name": "stdout",
     "output_type": "stream",
     "text": [
      "[1, 2]\n",
      "{'arg_one': [1, 2], 'arg_two': (3, 4)}\n"
     ]
    }
   ],
   "source": [
    "from dataclasses import dataclass, asdict\n",
    "from typing import AnyStr, List, Tuple, Literal, NewType, Sequence\n",
    "\n",
    "@dataclass\n",
    "class TestType:\n",
    "    arg_one: List[int]\n",
    "    arg_two: Tuple[int]\n",
    "\n",
    "t = TestType([1, 2], (3, 4))\n",
    "arg_dict = asdict(t)\n",
    "\n",
    "print(t.arg_one)\n",
    "print(arg_dict)"
   ]
  },
  {
   "cell_type": "code",
   "execution_count": 1,
   "metadata": {},
   "outputs": [
    {
     "name": "stdout",
     "output_type": "stream",
     "text": [
      "yes\n"
     ]
    }
   ],
   "source": [
    "from collections import OrderedDict\n",
    "\n",
    "def func1():\n",
    "    print('yes')\n",
    "TRAIN_FUNC_MAPPING_NAMES = OrderedDict(\n",
    "    [\n",
    "        ('densenet', func1),\n",
    "    ]\n",
    ")\n",
    "\n",
    "func = TRAIN_FUNC_MAPPING_NAMES['densenet']\n",
    "func()"
   ]
  },
  {
   "cell_type": "code",
   "execution_count": 1,
   "metadata": {},
   "outputs": [
    {
     "name": "stdout",
     "output_type": "stream",
     "text": [
      "classification\n",
      "classification\n"
     ]
    }
   ],
   "source": [
    "args = {\n",
    "    'task_type': 'classification'\n",
    "}\n",
    "\n",
    "print(args['task_type'])\n",
    "print(args.pop('task_type', None))"
   ]
  },
  {
   "cell_type": "code",
   "execution_count": null,
   "metadata": {},
   "outputs": [],
   "source": []
  }
 ],
 "metadata": {
  "kernelspec": {
   "display_name": "automl-merge",
   "language": "python",
   "name": "python3"
  },
  "language_info": {
   "codemirror_mode": {
    "name": "ipython",
    "version": 3
   },
   "file_extension": ".py",
   "mimetype": "text/x-python",
   "name": "python",
   "nbconvert_exporter": "python",
   "pygments_lexer": "ipython3",
   "version": "3.8.9"
  }
 },
 "nbformat": 4,
 "nbformat_minor": 2
}
