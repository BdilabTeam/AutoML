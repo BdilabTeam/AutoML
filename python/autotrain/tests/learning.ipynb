{
 "cells": [
  {
   "cell_type": "code",
   "execution_count": 1,
   "metadata": {},
   "outputs": [
    {
     "name": "stdout",
     "output_type": "stream",
     "text": [
      "Using TensorFlow backend\n"
     ]
    }
   ],
   "source": [
    "import os\n",
    "import autokeras as ak\n",
    "import tensorflow as tf\n",
    "import pandas as pd\n",
    "from sklearn.model_selection import train_test_split\n",
    "\n",
    "import logging\n",
    "logging.getLogger(\"tensorflow\").setLevel(logging.ERROR)\n"
   ]
  },
  {
   "cell_type": "markdown",
   "metadata": {},
   "source": [
    "# Structured Data"
   ]
  },
  {
   "cell_type": "code",
   "execution_count": 2,
   "metadata": {},
   "outputs": [],
   "source": [
    "X_y = pd.read_csv(os.path.join(os.path.pardir, 'autotrain', 'datasets', 'structured-data-classification.csv'))\n",
    "_, features_nums = X_y.shape\n",
    "X = X_y.iloc[:, 0:(features_nums - 1)].to_numpy()\n",
    "y = X_y.iloc[:, -1].to_numpy()\n",
    "\n",
    "x_train, x_test, y_train, y_test = train_test_split(X, y, test_size=0.2)\n",
    "x_train, x_val, y_train, y_val = train_test_split(x_train, y_train, test_size=0.2)"
   ]
  },
  {
   "cell_type": "code",
   "execution_count": 3,
   "metadata": {},
   "outputs": [
    {
     "name": "stdout",
     "output_type": "stream",
     "text": [
      "Trial 5 Complete [00h 00m 01s]\n",
      "val_accuracy: 0.42500001192092896\n",
      "\n",
      "Best val_accuracy So Far: 0.44999998807907104\n",
      "Total elapsed time: 00h 00m 05s\n"
     ]
    },
    {
     "name": "stderr",
     "output_type": "stream",
     "text": [
      "WARNING:absl:At this time, the v2.11+ optimizer `tf.keras.optimizers.Adam` runs slowly on M1/M2 Macs, please use the legacy Keras optimizer instead, located at `tf.keras.optimizers.legacy.Adam`.\n",
      "WARNING:absl:There is a known slowdown when using v2.11+ Keras optimizers on M1/M2 Macs. Falling back to the legacy Keras optimizer, i.e., `tf.keras.optimizers.legacy.Adam`.\n"
     ]
    },
    {
     "name": "stdout",
     "output_type": "stream",
     "text": [
      "Epoch 1/20\n",
      "10/10 [==============================] - 0s 9ms/step - loss: 164.9061 - accuracy: 0.3688 - val_loss: 97.8456 - val_accuracy: 0.4250\n",
      "Epoch 2/20\n",
      "10/10 [==============================] - 0s 2ms/step - loss: 74.9126 - accuracy: 0.3187 - val_loss: 47.1742 - val_accuracy: 0.2375\n",
      "Epoch 3/20\n",
      "10/10 [==============================] - 0s 2ms/step - loss: 23.9704 - accuracy: 0.3344 - val_loss: 10.9384 - val_accuracy: 0.3375\n",
      "Epoch 4/20\n",
      "10/10 [==============================] - 0s 2ms/step - loss: 12.6273 - accuracy: 0.3094 - val_loss: 9.7601 - val_accuracy: 0.2625\n",
      "Epoch 5/20\n",
      "10/10 [==============================] - 0s 2ms/step - loss: 5.8636 - accuracy: 0.3469 - val_loss: 3.7066 - val_accuracy: 0.4000\n",
      "Epoch 6/20\n",
      "10/10 [==============================] - 0s 2ms/step - loss: 4.1575 - accuracy: 0.3375 - val_loss: 1.8414 - val_accuracy: 0.4000\n",
      "Epoch 7/20\n",
      "10/10 [==============================] - 0s 2ms/step - loss: 2.8206 - accuracy: 0.2812 - val_loss: 2.1181 - val_accuracy: 0.3625\n",
      "Epoch 8/20\n",
      "10/10 [==============================] - 0s 2ms/step - loss: 1.8201 - accuracy: 0.3156 - val_loss: 1.3579 - val_accuracy: 0.3125\n",
      "Epoch 9/20\n",
      "10/10 [==============================] - 0s 2ms/step - loss: 1.4808 - accuracy: 0.2656 - val_loss: 1.2494 - val_accuracy: 0.3375\n",
      "Epoch 10/20\n",
      "10/10 [==============================] - 0s 2ms/step - loss: 1.3323 - accuracy: 0.3469 - val_loss: 1.2268 - val_accuracy: 0.3375\n",
      "Epoch 11/20\n",
      "10/10 [==============================] - 0s 2ms/step - loss: 1.3129 - accuracy: 0.3156 - val_loss: 1.2557 - val_accuracy: 0.3500\n",
      "Epoch 12/20\n",
      "10/10 [==============================] - 0s 2ms/step - loss: 1.3206 - accuracy: 0.3313 - val_loss: 1.2230 - val_accuracy: 0.3125\n",
      "Epoch 13/20\n",
      "10/10 [==============================] - 0s 2ms/step - loss: 1.2837 - accuracy: 0.3406 - val_loss: 1.1972 - val_accuracy: 0.3375\n",
      "Epoch 14/20\n",
      "10/10 [==============================] - 0s 2ms/step - loss: 1.2706 - accuracy: 0.3375 - val_loss: 1.2223 - val_accuracy: 0.3125\n",
      "Epoch 15/20\n",
      "10/10 [==============================] - 0s 2ms/step - loss: 1.2888 - accuracy: 0.2937 - val_loss: 1.2773 - val_accuracy: 0.3500\n",
      "Epoch 16/20\n",
      "10/10 [==============================] - 0s 2ms/step - loss: 1.3145 - accuracy: 0.2844 - val_loss: 1.2828 - val_accuracy: 0.3375\n",
      "Epoch 17/20\n",
      "10/10 [==============================] - 0s 2ms/step - loss: 1.3208 - accuracy: 0.2937 - val_loss: 1.2851 - val_accuracy: 0.3125\n",
      "Epoch 18/20\n",
      "10/10 [==============================] - 0s 2ms/step - loss: 1.3216 - accuracy: 0.3031 - val_loss: 1.2993 - val_accuracy: 0.3000\n",
      "Epoch 19/20\n",
      "10/10 [==============================] - 0s 2ms/step - loss: 1.3347 - accuracy: 0.3031 - val_loss: 1.3343 - val_accuracy: 0.2750\n",
      "Epoch 20/20\n",
      "10/10 [==============================] - 0s 2ms/step - loss: 1.3482 - accuracy: 0.3094 - val_loss: 1.3454 - val_accuracy: 0.2625\n"
     ]
    }
   ],
   "source": [
    "clf = ak.StructuredDataClassifier(\n",
    "    max_trials=5,\n",
    "    overwrite=True,\n",
    ")\n",
    "\n",
    "history = clf.fit(\n",
    "    x=x_train,\n",
    "    y=y_train,\n",
    "    epochs=20,\n",
    "    validation_data=(x_val, y_val),\n",
    ")"
   ]
  },
  {
   "cell_type": "code",
   "execution_count": 4,
   "metadata": {},
   "outputs": [
    {
     "name": "stdout",
     "output_type": "stream",
     "text": [
      "4/4 [==============================] - 0s 817us/step - loss: 1.2780 - accuracy: 0.3400\n"
     ]
    },
    {
     "data": {
      "text/plain": [
       "{'loss': 1.2779545783996582, 'accuracy': 0.3400000035762787}"
      ]
     },
     "execution_count": 4,
     "metadata": {},
     "output_type": "execute_result"
    }
   ],
   "source": [
    "evaluate_result = clf.evaluate(x=x_test, y=y_test, return_dict=True)\n",
    "evaluate_result"
   ]
  },
  {
   "cell_type": "code",
   "execution_count": 5,
   "metadata": {},
   "outputs": [
    {
     "data": {
      "text/plain": [
       "{'history': {'loss': [164.90606689453125,\n",
       "   74.91258239746094,\n",
       "   23.970430374145508,\n",
       "   12.627298355102539,\n",
       "   5.86357307434082,\n",
       "   4.157534599304199,\n",
       "   2.820606231689453,\n",
       "   1.8201239109039307,\n",
       "   1.480838418006897,\n",
       "   1.3322709798812866,\n",
       "   1.3129148483276367,\n",
       "   1.3206045627593994,\n",
       "   1.2836964130401611,\n",
       "   1.270628571510315,\n",
       "   1.288847804069519,\n",
       "   1.3144731521606445,\n",
       "   1.3208401203155518,\n",
       "   1.32156240940094,\n",
       "   1.3346840143203735,\n",
       "   1.3481805324554443],\n",
       "  'accuracy': [0.3687500059604645,\n",
       "   0.3187499940395355,\n",
       "   0.3343749940395355,\n",
       "   0.30937498807907104,\n",
       "   0.34687501192092896,\n",
       "   0.3375000059604645,\n",
       "   0.28125,\n",
       "   0.31562501192092896,\n",
       "   0.265625,\n",
       "   0.34687501192092896,\n",
       "   0.31562501192092896,\n",
       "   0.33125001192092896,\n",
       "   0.34062498807907104,\n",
       "   0.3375000059604645,\n",
       "   0.29374998807907104,\n",
       "   0.28437501192092896,\n",
       "   0.29374998807907104,\n",
       "   0.3031249940395355,\n",
       "   0.3031249940395355,\n",
       "   0.30937498807907104],\n",
       "  'val_loss': [97.84558868408203,\n",
       "   47.17424011230469,\n",
       "   10.938369750976562,\n",
       "   9.760135650634766,\n",
       "   3.706589460372925,\n",
       "   1.8413645029067993,\n",
       "   2.1181387901306152,\n",
       "   1.3579490184783936,\n",
       "   1.249362587928772,\n",
       "   1.2268292903900146,\n",
       "   1.2556849718093872,\n",
       "   1.2230451107025146,\n",
       "   1.1971876621246338,\n",
       "   1.2222936153411865,\n",
       "   1.277282953262329,\n",
       "   1.282750129699707,\n",
       "   1.2851108312606812,\n",
       "   1.2992993593215942,\n",
       "   1.3342655897140503,\n",
       "   1.345373511314392],\n",
       "  'val_accuracy': [0.42500001192092896,\n",
       "   0.23749999701976776,\n",
       "   0.3375000059604645,\n",
       "   0.26249998807907104,\n",
       "   0.4000000059604645,\n",
       "   0.4000000059604645,\n",
       "   0.36250001192092896,\n",
       "   0.3125,\n",
       "   0.3375000059604645,\n",
       "   0.3375000059604645,\n",
       "   0.3499999940395355,\n",
       "   0.3125,\n",
       "   0.3375000059604645,\n",
       "   0.3125,\n",
       "   0.3499999940395355,\n",
       "   0.3375000059604645,\n",
       "   0.3125,\n",
       "   0.30000001192092896,\n",
       "   0.2750000059604645,\n",
       "   0.26249998807907104]},\n",
       " 'hyperparameters': {'space': [{'class_name': 'Boolean',\n",
       "    'config': {'name': 'structured_data_block_1/normalize',\n",
       "     'default': False,\n",
       "     'conditions': []}},\n",
       "   {'class_name': 'Boolean',\n",
       "    'config': {'name': 'structured_data_block_1/dense_block_1/use_batchnorm',\n",
       "     'default': False,\n",
       "     'conditions': []}},\n",
       "   {'class_name': 'Choice',\n",
       "    'config': {'name': 'structured_data_block_1/dense_block_1/num_layers',\n",
       "     'default': 2,\n",
       "     'conditions': [],\n",
       "     'values': [1, 2, 3],\n",
       "     'ordered': True}},\n",
       "   {'class_name': 'Choice',\n",
       "    'config': {'name': 'structured_data_block_1/dense_block_1/units_0',\n",
       "     'default': 32,\n",
       "     'conditions': [],\n",
       "     'values': [16, 32, 64, 128, 256, 512, 1024],\n",
       "     'ordered': True}},\n",
       "   {'class_name': 'Choice',\n",
       "    'config': {'name': 'structured_data_block_1/dense_block_1/dropout',\n",
       "     'default': 0.0,\n",
       "     'conditions': [],\n",
       "     'values': [0.0, 0.25, 0.5],\n",
       "     'ordered': True}},\n",
       "   {'class_name': 'Choice',\n",
       "    'config': {'name': 'structured_data_block_1/dense_block_1/units_1',\n",
       "     'default': 32,\n",
       "     'conditions': [],\n",
       "     'values': [16, 32, 64, 128, 256, 512, 1024],\n",
       "     'ordered': True}},\n",
       "   {'class_name': 'Choice',\n",
       "    'config': {'name': 'classification_head_1/dropout',\n",
       "     'default': 0,\n",
       "     'conditions': [],\n",
       "     'values': [0.0, 0.25, 0.5],\n",
       "     'ordered': True}},\n",
       "   {'class_name': 'Choice',\n",
       "    'config': {'name': 'optimizer',\n",
       "     'default': 'adam',\n",
       "     'conditions': [],\n",
       "     'values': ['adam', 'sgd', 'adam_weight_decay'],\n",
       "     'ordered': False}},\n",
       "   {'class_name': 'Choice',\n",
       "    'config': {'name': 'learning_rate',\n",
       "     'default': 0.001,\n",
       "     'conditions': [],\n",
       "     'values': [0.1, 0.01, 0.001, 0.0001, 2e-05, 1e-05],\n",
       "     'ordered': True}}],\n",
       "  'values': {'structured_data_block_1/normalize': False,\n",
       "   'structured_data_block_1/dense_block_1/use_batchnorm': False,\n",
       "   'structured_data_block_1/dense_block_1/num_layers': 2,\n",
       "   'structured_data_block_1/dense_block_1/units_0': 32,\n",
       "   'structured_data_block_1/dense_block_1/dropout': 0,\n",
       "   'structured_data_block_1/dense_block_1/units_1': 32,\n",
       "   'classification_head_1/dropout': 0.0,\n",
       "   'optimizer': 'adam',\n",
       "   'learning_rate': 0.001}},\n",
       " 'model_graph_url': './structured_data_classifier/best_model/model.png'}"
      ]
     },
     "execution_count": 5,
     "metadata": {},
     "output_type": "execute_result"
    }
   ],
   "source": [
    "from typing import Dict, List, Any, Optional\n",
    "# from pydantic import BaseModel\n",
    "from dataclasses import dataclass\n",
    "from keras.utils import plot_model\n",
    "\n",
    "best_keras_model = clf.tuner.get_best_model()\n",
    "try:\n",
    "    model_file_path = os.path.join(clf.tuner.best_model_path, 'model.png')\n",
    "    plot_model(best_keras_model, to_file=model_file_path, show_layer_activations=True, show_dtype=True, show_shapes=True, show_layer_names=False)\n",
    "except:\n",
    "    model_file_path = None\n",
    "\n",
    "@dataclass\n",
    "class BestModelTracker:\n",
    "    history: Dict[str, Any]\n",
    "    hyperparameters: Dict[str, Any]\n",
    "    model_graph_url: Optional[str]\n",
    "\n",
    "best_model_tracker = BestModelTracker(\n",
    "    history=history.history,\n",
    "    hyperparameters=clf.tuner.get_best_hyperparameters().pop().get_config(),\n",
    "    model_graph_url=model_file_path\n",
    ")\n",
    "best_model_tracker.__dict__"
   ]
  },
  {
   "cell_type": "markdown",
   "metadata": {},
   "source": [
    "# Trial"
   ]
  },
  {
   "cell_type": "code",
   "execution_count": 6,
   "metadata": {},
   "outputs": [
    {
     "data": {
      "text/plain": [
       "{'trial_id': '1',\n",
       " 'hyperparameters': {'space': [{'class_name': 'Boolean',\n",
       "    'config': {'name': 'structured_data_block_1/normalize',\n",
       "     'default': False,\n",
       "     'conditions': []}},\n",
       "   {'class_name': 'Boolean',\n",
       "    'config': {'name': 'structured_data_block_1/dense_block_1/use_batchnorm',\n",
       "     'default': False,\n",
       "     'conditions': []}},\n",
       "   {'class_name': 'Choice',\n",
       "    'config': {'name': 'structured_data_block_1/dense_block_1/num_layers',\n",
       "     'default': 2,\n",
       "     'conditions': [],\n",
       "     'values': [1, 2, 3],\n",
       "     'ordered': True}},\n",
       "   {'class_name': 'Choice',\n",
       "    'config': {'name': 'structured_data_block_1/dense_block_1/units_0',\n",
       "     'default': 32,\n",
       "     'conditions': [],\n",
       "     'values': [16, 32, 64, 128, 256, 512, 1024],\n",
       "     'ordered': True}},\n",
       "   {'class_name': 'Choice',\n",
       "    'config': {'name': 'structured_data_block_1/dense_block_1/dropout',\n",
       "     'default': 0.0,\n",
       "     'conditions': [],\n",
       "     'values': [0.0, 0.25, 0.5],\n",
       "     'ordered': True}},\n",
       "   {'class_name': 'Choice',\n",
       "    'config': {'name': 'structured_data_block_1/dense_block_1/units_1',\n",
       "     'default': 32,\n",
       "     'conditions': [],\n",
       "     'values': [16, 32, 64, 128, 256, 512, 1024],\n",
       "     'ordered': True}},\n",
       "   {'class_name': 'Choice',\n",
       "    'config': {'name': 'classification_head_1/dropout',\n",
       "     'default': 0,\n",
       "     'conditions': [],\n",
       "     'values': [0.0, 0.25, 0.5],\n",
       "     'ordered': True}},\n",
       "   {'class_name': 'Choice',\n",
       "    'config': {'name': 'optimizer',\n",
       "     'default': 'adam',\n",
       "     'conditions': [],\n",
       "     'values': ['adam', 'sgd', 'adam_weight_decay'],\n",
       "     'ordered': False}},\n",
       "   {'class_name': 'Choice',\n",
       "    'config': {'name': 'learning_rate',\n",
       "     'default': 0.001,\n",
       "     'conditions': [],\n",
       "     'values': [0.1, 0.01, 0.001, 0.0001, 2e-05, 1e-05],\n",
       "     'ordered': True}}],\n",
       "  'values': {'structured_data_block_1/normalize': True,\n",
       "   'structured_data_block_1/dense_block_1/use_batchnorm': True,\n",
       "   'structured_data_block_1/dense_block_1/num_layers': 2,\n",
       "   'structured_data_block_1/dense_block_1/units_0': 32,\n",
       "   'structured_data_block_1/dense_block_1/dropout': 0,\n",
       "   'structured_data_block_1/dense_block_1/units_1': 32,\n",
       "   'classification_head_1/dropout': 0.0,\n",
       "   'optimizer': 'adam',\n",
       "   'learning_rate': 0.001}},\n",
       " 'metrics': {'metrics': {'loss': {'direction': 'min',\n",
       "    'observations': [{'value': [0.9517261385917664], 'step': 9}]},\n",
       "   'accuracy': {'direction': 'max',\n",
       "    'observations': [{'value': [0.5625], 'step': 9}]},\n",
       "   'val_loss': {'direction': 'min',\n",
       "    'observations': [{'value': [1.1171467304229736], 'step': 9}]},\n",
       "   'val_accuracy': {'direction': 'max',\n",
       "    'observations': [{'value': [0.375], 'step': 9}]}}},\n",
       " 'score': 0.375,\n",
       " 'best_step': 9,\n",
       " 'status': 'COMPLETED',\n",
       " 'message': None}"
      ]
     },
     "execution_count": 6,
     "metadata": {},
     "output_type": "execute_result"
    }
   ],
   "source": [
    "clf.tuner.oracle.get_trial('1').get_state()"
   ]
  },
  {
   "cell_type": "code",
   "execution_count": 7,
   "metadata": {},
   "outputs": [
    {
     "name": "stderr",
     "output_type": "stream",
     "text": [
      "WARNING:absl:At this time, the v2.11+ optimizer `tf.keras.optimizers.Adam` runs slowly on M1/M2 Macs, please use the legacy Keras optimizer instead, located at `tf.keras.optimizers.legacy.Adam`.\n",
      "WARNING:absl:There is a known slowdown when using v2.11+ Keras optimizers on M1/M2 Macs. Falling back to the legacy Keras optimizer, i.e., `tf.keras.optimizers.legacy.Adam`.\n",
      "WARNING:absl:At this time, the v2.11+ optimizer `tf.keras.optimizers.Adam` runs slowly on M1/M2 Macs, please use the legacy Keras optimizer instead, located at `tf.keras.optimizers.legacy.Adam`.\n",
      "WARNING:absl:There is a known slowdown when using v2.11+ Keras optimizers on M1/M2 Macs. Falling back to the legacy Keras optimizer, i.e., `tf.keras.optimizers.legacy.Adam`.\n",
      "WARNING:absl:At this time, the v2.11+ optimizer `tf.keras.optimizers.Adam` runs slowly on M1/M2 Macs, please use the legacy Keras optimizer instead, located at `tf.keras.optimizers.legacy.Adam`.\n",
      "WARNING:absl:There is a known slowdown when using v2.11+ Keras optimizers on M1/M2 Macs. Falling back to the legacy Keras optimizer, i.e., `tf.keras.optimizers.legacy.Adam`.\n",
      "WARNING:absl:At this time, the v2.11+ optimizer `tf.keras.optimizers.Adam` runs slowly on M1/M2 Macs, please use the legacy Keras optimizer instead, located at `tf.keras.optimizers.legacy.Adam`.\n",
      "WARNING:absl:There is a known slowdown when using v2.11+ Keras optimizers on M1/M2 Macs. Falling back to the legacy Keras optimizer, i.e., `tf.keras.optimizers.legacy.Adam`.\n",
      "WARNING:absl:At this time, the v2.11+ optimizer `tf.keras.optimizers.Adam` runs slowly on M1/M2 Macs, please use the legacy Keras optimizer instead, located at `tf.keras.optimizers.legacy.Adam`.\n",
      "WARNING:absl:There is a known slowdown when using v2.11+ Keras optimizers on M1/M2 Macs. Falling back to the legacy Keras optimizer, i.e., `tf.keras.optimizers.legacy.Adam`.\n"
     ]
    },
    {
     "data": {
      "text/plain": [
       "{'trials': [Trial(trial_id='2', hyperparameters={'space': [{'class_name': 'Boolean', 'config': {'name': 'structured_data_block_1/normalize', 'default': False, 'conditions': []}}, {'class_name': 'Boolean', 'config': {'name': 'structured_data_block_1/dense_block_1/use_batchnorm', 'default': False, 'conditions': []}}, {'class_name': 'Choice', 'config': {'name': 'structured_data_block_1/dense_block_1/num_layers', 'default': 2, 'conditions': [], 'values': [1, 2, 3], 'ordered': True}}, {'class_name': 'Choice', 'config': {'name': 'structured_data_block_1/dense_block_1/units_0', 'default': 32, 'conditions': [], 'values': [16, 32, 64, 128, 256, 512, 1024], 'ordered': True}}, {'class_name': 'Choice', 'config': {'name': 'structured_data_block_1/dense_block_1/dropout', 'default': 0.0, 'conditions': [], 'values': [0.0, 0.25, 0.5], 'ordered': True}}, {'class_name': 'Choice', 'config': {'name': 'structured_data_block_1/dense_block_1/units_1', 'default': 32, 'conditions': [], 'values': [16, 32, 64, 128, 256, 512, 1024], 'ordered': True}}, {'class_name': 'Choice', 'config': {'name': 'classification_head_1/dropout', 'default': 0, 'conditions': [], 'values': [0.0, 0.25, 0.5], 'ordered': True}}, {'class_name': 'Choice', 'config': {'name': 'optimizer', 'default': 'adam', 'conditions': [], 'values': ['adam', 'sgd', 'adam_weight_decay'], 'ordered': False}}, {'class_name': 'Choice', 'config': {'name': 'learning_rate', 'default': 0.001, 'conditions': [], 'values': [0.1, 0.01, 0.001, 0.0001, 2e-05, 1e-05], 'ordered': True}}], 'values': {'structured_data_block_1/normalize': False, 'structured_data_block_1/dense_block_1/use_batchnorm': False, 'structured_data_block_1/dense_block_1/num_layers': 2, 'structured_data_block_1/dense_block_1/units_0': 32, 'structured_data_block_1/dense_block_1/dropout': 0, 'structured_data_block_1/dense_block_1/units_1': 32, 'classification_head_1/dropout': 0.0, 'optimizer': 'adam', 'learning_rate': 0.001}}, metrics={'metrics': {'loss': {'direction': 'min', 'observations': [{'value': [1.4402756690979004], 'step': 17}]}, 'accuracy': {'direction': 'max', 'observations': [{'value': [0.3656249940395355], 'step': 17}]}, 'val_loss': {'direction': 'min', 'observations': [{'value': [1.0798003673553467], 'step': 17}]}, 'val_accuracy': {'direction': 'max', 'observations': [{'value': [0.44999998807907104], 'step': 17}]}}}, score=0.44999998807907104, best_step=17, status='COMPLETED', model_graph_url='./structured_data_classifier/trial_2/model.png', message=None),\n",
       "  Trial(trial_id='3', hyperparameters={'space': [{'class_name': 'Boolean', 'config': {'name': 'structured_data_block_1/normalize', 'default': False, 'conditions': []}}, {'class_name': 'Boolean', 'config': {'name': 'structured_data_block_1/dense_block_1/use_batchnorm', 'default': False, 'conditions': []}}, {'class_name': 'Choice', 'config': {'name': 'structured_data_block_1/dense_block_1/num_layers', 'default': 2, 'conditions': [], 'values': [1, 2, 3], 'ordered': True}}, {'class_name': 'Choice', 'config': {'name': 'structured_data_block_1/dense_block_1/units_0', 'default': 32, 'conditions': [], 'values': [16, 32, 64, 128, 256, 512, 1024], 'ordered': True}}, {'class_name': 'Choice', 'config': {'name': 'structured_data_block_1/dense_block_1/dropout', 'default': 0.0, 'conditions': [], 'values': [0.0, 0.25, 0.5], 'ordered': True}}, {'class_name': 'Choice', 'config': {'name': 'structured_data_block_1/dense_block_1/units_1', 'default': 32, 'conditions': [], 'values': [16, 32, 64, 128, 256, 512, 1024], 'ordered': True}}, {'class_name': 'Choice', 'config': {'name': 'classification_head_1/dropout', 'default': 0, 'conditions': [], 'values': [0.0, 0.25, 0.5], 'ordered': True}}, {'class_name': 'Choice', 'config': {'name': 'optimizer', 'default': 'adam', 'conditions': [], 'values': ['adam', 'sgd', 'adam_weight_decay'], 'ordered': False}}, {'class_name': 'Choice', 'config': {'name': 'learning_rate', 'default': 0.001, 'conditions': [], 'values': [0.1, 0.01, 0.001, 0.0001, 2e-05, 1e-05], 'ordered': True}}], 'values': {'structured_data_block_1/normalize': False, 'structured_data_block_1/dense_block_1/use_batchnorm': False, 'structured_data_block_1/dense_block_1/num_layers': 2, 'structured_data_block_1/dense_block_1/units_0': 32, 'structured_data_block_1/dense_block_1/dropout': 0, 'structured_data_block_1/dense_block_1/units_1': 1024, 'classification_head_1/dropout': 0.0, 'optimizer': 'adam', 'learning_rate': 0.001}}, metrics={'metrics': {'loss': {'direction': 'min', 'observations': [{'value': [10.704957008361816], 'step': 2}]}, 'accuracy': {'direction': 'max', 'observations': [{'value': [0.34375], 'step': 2}]}, 'val_loss': {'direction': 'min', 'observations': [{'value': [5.361931324005127], 'step': 2}]}, 'val_accuracy': {'direction': 'max', 'observations': [{'value': [0.42500001192092896], 'step': 2}]}}}, score=0.42500001192092896, best_step=2, status='COMPLETED', model_graph_url='./structured_data_classifier/trial_3/model.png', message=None),\n",
       "  Trial(trial_id='4', hyperparameters={'space': [{'class_name': 'Boolean', 'config': {'name': 'structured_data_block_1/normalize', 'default': False, 'conditions': []}}, {'class_name': 'Boolean', 'config': {'name': 'structured_data_block_1/dense_block_1/use_batchnorm', 'default': False, 'conditions': []}}, {'class_name': 'Choice', 'config': {'name': 'structured_data_block_1/dense_block_1/num_layers', 'default': 2, 'conditions': [], 'values': [1, 2, 3], 'ordered': True}}, {'class_name': 'Choice', 'config': {'name': 'structured_data_block_1/dense_block_1/units_0', 'default': 32, 'conditions': [], 'values': [16, 32, 64, 128, 256, 512, 1024], 'ordered': True}}, {'class_name': 'Choice', 'config': {'name': 'structured_data_block_1/dense_block_1/dropout', 'default': 0.0, 'conditions': [], 'values': [0.0, 0.25, 0.5], 'ordered': True}}, {'class_name': 'Choice', 'config': {'name': 'structured_data_block_1/dense_block_1/units_1', 'default': 32, 'conditions': [], 'values': [16, 32, 64, 128, 256, 512, 1024], 'ordered': True}}, {'class_name': 'Choice', 'config': {'name': 'classification_head_1/dropout', 'default': 0, 'conditions': [], 'values': [0.0, 0.25, 0.5], 'ordered': True}}, {'class_name': 'Choice', 'config': {'name': 'optimizer', 'default': 'adam', 'conditions': [], 'values': ['adam', 'sgd', 'adam_weight_decay'], 'ordered': False}}, {'class_name': 'Choice', 'config': {'name': 'learning_rate', 'default': 0.001, 'conditions': [], 'values': [0.1, 0.01, 0.001, 0.0001, 2e-05, 1e-05], 'ordered': True}}], 'values': {'structured_data_block_1/normalize': False, 'structured_data_block_1/dense_block_1/use_batchnorm': False, 'structured_data_block_1/dense_block_1/num_layers': 2, 'structured_data_block_1/dense_block_1/units_0': 32, 'structured_data_block_1/dense_block_1/dropout': 0, 'structured_data_block_1/dense_block_1/units_1': 32, 'classification_head_1/dropout': 0.0, 'optimizer': 'adam', 'learning_rate': 2e-05}}, metrics={'metrics': {'loss': {'direction': 'min', 'observations': [{'value': [183.38101196289062], 'step': 0}]}, 'accuracy': {'direction': 'max', 'observations': [{'value': [0.3687500059604645], 'step': 0}]}, 'val_loss': {'direction': 'min', 'observations': [{'value': [165.69102478027344], 'step': 0}]}, 'val_accuracy': {'direction': 'max', 'observations': [{'value': [0.42500001192092896], 'step': 0}]}}}, score=0.42500001192092896, best_step=0, status='COMPLETED', model_graph_url='./structured_data_classifier/trial_4/model.png', message=None),\n",
       "  Trial(trial_id='0', hyperparameters={'space': [{'class_name': 'Boolean', 'config': {'name': 'structured_data_block_1/normalize', 'default': False, 'conditions': []}}, {'class_name': 'Boolean', 'config': {'name': 'structured_data_block_1/dense_block_1/use_batchnorm', 'default': False, 'conditions': []}}, {'class_name': 'Choice', 'config': {'name': 'structured_data_block_1/dense_block_1/num_layers', 'default': 2, 'conditions': [], 'values': [1, 2, 3], 'ordered': True}}, {'class_name': 'Choice', 'config': {'name': 'structured_data_block_1/dense_block_1/units_0', 'default': 32, 'conditions': [], 'values': [16, 32, 64, 128, 256, 512, 1024], 'ordered': True}}, {'class_name': 'Choice', 'config': {'name': 'structured_data_block_1/dense_block_1/dropout', 'default': 0.0, 'conditions': [], 'values': [0.0, 0.25, 0.5], 'ordered': True}}, {'class_name': 'Choice', 'config': {'name': 'structured_data_block_1/dense_block_1/units_1', 'default': 32, 'conditions': [], 'values': [16, 32, 64, 128, 256, 512, 1024], 'ordered': True}}, {'class_name': 'Choice', 'config': {'name': 'classification_head_1/dropout', 'default': 0, 'conditions': [], 'values': [0.0, 0.25, 0.5], 'ordered': True}}, {'class_name': 'Choice', 'config': {'name': 'optimizer', 'default': 'adam', 'conditions': [], 'values': ['adam', 'sgd', 'adam_weight_decay'], 'ordered': False}}, {'class_name': 'Choice', 'config': {'name': 'learning_rate', 'default': 0.001, 'conditions': [], 'values': [0.1, 0.01, 0.001, 0.0001, 2e-05, 1e-05], 'ordered': True}}], 'values': {'structured_data_block_1/normalize': True, 'structured_data_block_1/dense_block_1/num_layers': 2, 'structured_data_block_1/dense_block_1/use_batchnorm': False, 'structured_data_block_1/dense_block_1/dropout': 0, 'structured_data_block_1/dense_block_1/units_0': 32, 'structured_data_block_1/dense_block_1/units_1': 32, 'classification_head_1/dropout': 0.0, 'optimizer': 'adam', 'learning_rate': 0.001}}, metrics={'metrics': {'loss': {'direction': 'min', 'observations': [{'value': [1.1040756702423096], 'step': 1}]}, 'accuracy': {'direction': 'max', 'observations': [{'value': [0.3812499940395355], 'step': 1}]}, 'val_loss': {'direction': 'min', 'observations': [{'value': [1.10080885887146], 'step': 1}]}, 'val_accuracy': {'direction': 'max', 'observations': [{'value': [0.4124999940395355], 'step': 1}]}}}, score=0.4124999940395355, best_step=1, status='COMPLETED', model_graph_url='./structured_data_classifier/trial_0/model.png', message=None),\n",
       "  Trial(trial_id='1', hyperparameters={'space': [{'class_name': 'Boolean', 'config': {'name': 'structured_data_block_1/normalize', 'default': False, 'conditions': []}}, {'class_name': 'Boolean', 'config': {'name': 'structured_data_block_1/dense_block_1/use_batchnorm', 'default': False, 'conditions': []}}, {'class_name': 'Choice', 'config': {'name': 'structured_data_block_1/dense_block_1/num_layers', 'default': 2, 'conditions': [], 'values': [1, 2, 3], 'ordered': True}}, {'class_name': 'Choice', 'config': {'name': 'structured_data_block_1/dense_block_1/units_0', 'default': 32, 'conditions': [], 'values': [16, 32, 64, 128, 256, 512, 1024], 'ordered': True}}, {'class_name': 'Choice', 'config': {'name': 'structured_data_block_1/dense_block_1/dropout', 'default': 0.0, 'conditions': [], 'values': [0.0, 0.25, 0.5], 'ordered': True}}, {'class_name': 'Choice', 'config': {'name': 'structured_data_block_1/dense_block_1/units_1', 'default': 32, 'conditions': [], 'values': [16, 32, 64, 128, 256, 512, 1024], 'ordered': True}}, {'class_name': 'Choice', 'config': {'name': 'classification_head_1/dropout', 'default': 0, 'conditions': [], 'values': [0.0, 0.25, 0.5], 'ordered': True}}, {'class_name': 'Choice', 'config': {'name': 'optimizer', 'default': 'adam', 'conditions': [], 'values': ['adam', 'sgd', 'adam_weight_decay'], 'ordered': False}}, {'class_name': 'Choice', 'config': {'name': 'learning_rate', 'default': 0.001, 'conditions': [], 'values': [0.1, 0.01, 0.001, 0.0001, 2e-05, 1e-05], 'ordered': True}}], 'values': {'structured_data_block_1/normalize': True, 'structured_data_block_1/dense_block_1/use_batchnorm': True, 'structured_data_block_1/dense_block_1/num_layers': 2, 'structured_data_block_1/dense_block_1/units_0': 32, 'structured_data_block_1/dense_block_1/dropout': 0, 'structured_data_block_1/dense_block_1/units_1': 32, 'classification_head_1/dropout': 0.0, 'optimizer': 'adam', 'learning_rate': 0.001}}, metrics={'metrics': {'loss': {'direction': 'min', 'observations': [{'value': [0.9517261385917664], 'step': 9}]}, 'accuracy': {'direction': 'max', 'observations': [{'value': [0.5625], 'step': 9}]}, 'val_loss': {'direction': 'min', 'observations': [{'value': [1.1171467304229736], 'step': 9}]}, 'val_accuracy': {'direction': 'max', 'observations': [{'value': [0.375], 'step': 9}]}}}, score=0.375, best_step=9, status='COMPLETED', model_graph_url='./structured_data_classifier/trial_1/model.png', message=None)]}"
      ]
     },
     "execution_count": 7,
     "metadata": {},
     "output_type": "execute_result"
    }
   ],
   "source": [
    "from dataclasses import dataclass\n",
    "from typing import Any, Optional, List, Dict\n",
    "\n",
    "\n",
    "@dataclass \n",
    "class Trial:\n",
    "    trial_id: str\n",
    "    hyperparameters: Dict[str, Any]\n",
    "    metrics: Dict[str, Any]\n",
    "    score: float\n",
    "    best_step: int\n",
    "    status: str\n",
    "    model_graph_url: Optional[str]\n",
    "    message: Any\n",
    "\n",
    "@dataclass \n",
    "class TrialsTracker:\n",
    "    trials: List[Trial]\n",
    "\n",
    "max_trials = 5\n",
    "trials = []\n",
    "models = clf.tuner.get_best_models(max_trials)\n",
    "index = 0\n",
    "for trial in clf.tuner.oracle.get_best_trials(max_trials):\n",
    "    try:\n",
    "        model_file_path = os.path.join(clf.tuner.get_trial_dir(trial_id=trial.trial_id), 'model.png')\n",
    "        plot_model(model=models[index], to_file=model_file_path, show_layer_activations=True, show_dtype=True, show_shapes=True, show_layer_names=False)\n",
    "    except:\n",
    "        model_file_path = None\n",
    "    index += 1\n",
    "    trials.append(Trial(\n",
    "        **trial.get_state(),\n",
    "        model_graph_url=model_file_path\n",
    "    ))\n",
    "trials_tracker = TrialsTracker(trials=trials)\n",
    "trials_tracker.__dict__\n"
   ]
  },
  {
   "cell_type": "code",
   "execution_count": null,
   "metadata": {},
   "outputs": [],
   "source": []
  }
 ],
 "metadata": {
  "kernelspec": {
   "display_name": "automl-merge",
   "language": "python",
   "name": "python3"
  },
  "language_info": {
   "codemirror_mode": {
    "name": "ipython",
    "version": 3
   },
   "file_extension": ".py",
   "mimetype": "text/x-python",
   "name": "python",
   "nbconvert_exporter": "python",
   "pygments_lexer": "ipython3",
   "version": "3.9.18"
  }
 },
 "nbformat": 4,
 "nbformat_minor": 2
}
