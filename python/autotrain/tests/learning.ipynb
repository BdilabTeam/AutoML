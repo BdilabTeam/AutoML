{
 "cells": [
  {
   "cell_type": "code",
   "execution_count": 1,
   "metadata": {},
   "outputs": [
    {
     "name": "stdout",
     "output_type": "stream",
     "text": [
      "Using TensorFlow backend\n"
     ]
    }
   ],
   "source": [
    "import os\n",
    "import autokeras as ak\n",
    "import tensorflow as tf\n",
    "import pandas as pd\n",
    "from sklearn.model_selection import train_test_split\n",
    "\n",
    "import logging\n",
    "logging.getLogger(\"tensorflow\").setLevel(logging.ERROR)\n"
   ]
  },
  {
   "cell_type": "markdown",
   "metadata": {},
   "source": [
    "# Structured Data"
   ]
  },
  {
   "cell_type": "code",
   "execution_count": 2,
   "metadata": {},
   "outputs": [],
   "source": [
    "X_y = pd.read_csv(os.path.join(os.path.pardir, 'autotrain', 'datasets', 'structured-data-classification.csv'))\n",
    "_, features_nums = X_y.shape\n",
    "X = X_y.iloc[:, 0:(features_nums - 1)].to_numpy()\n",
    "y = X_y.iloc[:, -1].to_numpy()\n",
    "\n",
    "x_train, x_test, y_train, y_test = train_test_split(X, y, test_size=0.2)\n",
    "x_train, x_val, y_train, y_val = train_test_split(x_train, y_train, test_size=0.2)"
   ]
  },
  {
   "cell_type": "code",
   "execution_count": 3,
   "metadata": {},
   "outputs": [
    {
     "name": "stdout",
     "output_type": "stream",
     "text": [
      "Trial 5 Complete [00h 00m 01s]\n",
      "val_accuracy: 0.4375\n",
      "\n",
      "Best val_accuracy So Far: 0.4375\n",
      "Total elapsed time: 00h 00m 05s\n"
     ]
    },
    {
     "name": "stderr",
     "output_type": "stream",
     "text": [
      "WARNING:absl:At this time, the v2.11+ optimizer `tf.keras.optimizers.Adam` runs slowly on M1/M2 Macs, please use the legacy Keras optimizer instead, located at `tf.keras.optimizers.legacy.Adam`.\n"
     ]
    },
    {
     "name": "stdout",
     "output_type": "stream",
     "text": [
      "Epoch 1/20\n",
      "10/10 [==============================] - 0s 9ms/step - loss: 1.1160 - accuracy: 0.3375 - val_loss: 1.1075 - val_accuracy: 0.3375\n",
      "Epoch 2/20\n",
      "10/10 [==============================] - 0s 3ms/step - loss: 1.0939 - accuracy: 0.3469 - val_loss: 1.1046 - val_accuracy: 0.3500\n",
      "Epoch 3/20\n",
      "10/10 [==============================] - 0s 3ms/step - loss: 1.0848 - accuracy: 0.3688 - val_loss: 1.1042 - val_accuracy: 0.3500\n",
      "Epoch 4/20\n",
      "10/10 [==============================] - 0s 3ms/step - loss: 1.0847 - accuracy: 0.3875 - val_loss: 1.1041 - val_accuracy: 0.3000\n",
      "Epoch 5/20\n",
      "10/10 [==============================] - 0s 3ms/step - loss: 1.0699 - accuracy: 0.4563 - val_loss: 1.1044 - val_accuracy: 0.3000\n",
      "Epoch 6/20\n",
      "10/10 [==============================] - 0s 3ms/step - loss: 1.0824 - accuracy: 0.3938 - val_loss: 1.1054 - val_accuracy: 0.2625\n",
      "Epoch 7/20\n",
      "10/10 [==============================] - 0s 3ms/step - loss: 1.0605 - accuracy: 0.4375 - val_loss: 1.1063 - val_accuracy: 0.2750\n",
      "Epoch 8/20\n",
      "10/10 [==============================] - 0s 3ms/step - loss: 1.0605 - accuracy: 0.4469 - val_loss: 1.1074 - val_accuracy: 0.3125\n",
      "Epoch 9/20\n",
      "10/10 [==============================] - 0s 3ms/step - loss: 1.0702 - accuracy: 0.4125 - val_loss: 1.1080 - val_accuracy: 0.3375\n",
      "Epoch 10/20\n",
      "10/10 [==============================] - 0s 3ms/step - loss: 1.0425 - accuracy: 0.4656 - val_loss: 1.1092 - val_accuracy: 0.3250\n",
      "Epoch 11/20\n",
      "10/10 [==============================] - 0s 3ms/step - loss: 1.0394 - accuracy: 0.4469 - val_loss: 1.1107 - val_accuracy: 0.3625\n",
      "Epoch 12/20\n",
      "10/10 [==============================] - 0s 3ms/step - loss: 1.0318 - accuracy: 0.5031 - val_loss: 1.1124 - val_accuracy: 0.3500\n",
      "Epoch 13/20\n",
      "10/10 [==============================] - 0s 3ms/step - loss: 1.0328 - accuracy: 0.4906 - val_loss: 1.1146 - val_accuracy: 0.3500\n",
      "Epoch 14/20\n",
      "10/10 [==============================] - 0s 3ms/step - loss: 1.0421 - accuracy: 0.4625 - val_loss: 1.1163 - val_accuracy: 0.3500\n",
      "Epoch 15/20\n",
      "10/10 [==============================] - 0s 3ms/step - loss: 1.0251 - accuracy: 0.5000 - val_loss: 1.1177 - val_accuracy: 0.3625\n",
      "Epoch 16/20\n",
      "10/10 [==============================] - 0s 3ms/step - loss: 1.0374 - accuracy: 0.4688 - val_loss: 1.1196 - val_accuracy: 0.3625\n",
      "Epoch 17/20\n",
      "10/10 [==============================] - 0s 3ms/step - loss: 1.0041 - accuracy: 0.5406 - val_loss: 1.1213 - val_accuracy: 0.3500\n",
      "Epoch 18/20\n",
      "10/10 [==============================] - 0s 3ms/step - loss: 1.0293 - accuracy: 0.4750 - val_loss: 1.1228 - val_accuracy: 0.3500\n",
      "Epoch 19/20\n",
      "10/10 [==============================] - 0s 3ms/step - loss: 0.9935 - accuracy: 0.5375 - val_loss: 1.1248 - val_accuracy: 0.3500\n",
      "Epoch 20/20\n",
      "10/10 [==============================] - 0s 3ms/step - loss: 1.0246 - accuracy: 0.4938 - val_loss: 1.1263 - val_accuracy: 0.3375\n"
     ]
    }
   ],
   "source": [
    "clf = ak.StructuredDataClassifier(\n",
    "    max_trials=5,\n",
    "    overwrite=True,\n",
    ")\n",
    "\n",
    "history = clf.fit(\n",
    "    x=x_train,\n",
    "    y=y_train,\n",
    "    epochs=20,\n",
    "    validation_data=(x_val, y_val),\n",
    ")"
   ]
  },
  {
   "cell_type": "code",
   "execution_count": 4,
   "metadata": {},
   "outputs": [
    {
     "name": "stderr",
     "output_type": "stream",
     "text": [
      "WARNING:absl:At this time, the v2.11+ optimizer `tf.keras.optimizers.RestoredOptimizer` runs slowly on M1/M2 Macs, please use the legacy Keras optimizer instead, located at `tf.keras.optimizers.legacy.RestoredOptimizer`.\n",
      "WARNING:absl:At this time, the v2.11+ optimizer `tf.keras.optimizers.Adam` runs slowly on M1/M2 Macs, please use the legacy Keras optimizer instead, located at `tf.keras.optimizers.legacy.Adam`.\n"
     ]
    },
    {
     "name": "stdout",
     "output_type": "stream",
     "text": [
      "4/4 [==============================] - 0s 917us/step - loss: 1.1073 - accuracy: 0.3500\n"
     ]
    },
    {
     "data": {
      "text/plain": [
       "{'loss': 1.1072760820388794, 'accuracy': 0.3499999940395355}"
      ]
     },
     "execution_count": 4,
     "metadata": {},
     "output_type": "execute_result"
    }
   ],
   "source": [
    "evaluate_result = clf.evaluate(x=x_test, y=y_test, return_dict=True)\n",
    "evaluate_result"
   ]
  },
  {
   "cell_type": "code",
   "execution_count": 5,
   "metadata": {},
   "outputs": [
    {
     "name": "stderr",
     "output_type": "stream",
     "text": [
      "WARNING:absl:At this time, the v2.11+ optimizer `tf.keras.optimizers.RestoredOptimizer` runs slowly on M1/M2 Macs, please use the legacy Keras optimizer instead, located at `tf.keras.optimizers.legacy.RestoredOptimizer`.\n",
      "WARNING:absl:At this time, the v2.11+ optimizer `tf.keras.optimizers.Adam` runs slowly on M1/M2 Macs, please use the legacy Keras optimizer instead, located at `tf.keras.optimizers.legacy.Adam`.\n"
     ]
    },
    {
     "data": {
      "text/plain": [
       "{'history': {'loss': [1.1160433292388916,\n",
       "   1.0939342975616455,\n",
       "   1.0847777128219604,\n",
       "   1.084676742553711,\n",
       "   1.06989324092865,\n",
       "   1.0823984146118164,\n",
       "   1.0605242252349854,\n",
       "   1.0604743957519531,\n",
       "   1.0702459812164307,\n",
       "   1.0424621105194092,\n",
       "   1.0393513441085815,\n",
       "   1.0317610502243042,\n",
       "   1.0327776670455933,\n",
       "   1.0421007871627808,\n",
       "   1.0250943899154663,\n",
       "   1.0374301671981812,\n",
       "   1.0041248798370361,\n",
       "   1.0292603969573975,\n",
       "   0.9935396909713745,\n",
       "   1.0245945453643799],\n",
       "  'accuracy': [0.3375000059604645,\n",
       "   0.34687501192092896,\n",
       "   0.3687500059604645,\n",
       "   0.38749998807907104,\n",
       "   0.45625001192092896,\n",
       "   0.39375001192092896,\n",
       "   0.4375,\n",
       "   0.4468750059604645,\n",
       "   0.4124999940395355,\n",
       "   0.46562498807907104,\n",
       "   0.4468750059604645,\n",
       "   0.503125011920929,\n",
       "   0.4906249940395355,\n",
       "   0.4625000059604645,\n",
       "   0.5,\n",
       "   0.46875,\n",
       "   0.5406249761581421,\n",
       "   0.4749999940395355,\n",
       "   0.5375000238418579,\n",
       "   0.4937500059604645],\n",
       "  'val_loss': [1.1074541807174683,\n",
       "   1.104579210281372,\n",
       "   1.1042073965072632,\n",
       "   1.1041209697723389,\n",
       "   1.104406714439392,\n",
       "   1.1053683757781982,\n",
       "   1.1063045263290405,\n",
       "   1.1073583364486694,\n",
       "   1.1079864501953125,\n",
       "   1.1091911792755127,\n",
       "   1.1107001304626465,\n",
       "   1.1124489307403564,\n",
       "   1.1145803928375244,\n",
       "   1.116288661956787,\n",
       "   1.1177107095718384,\n",
       "   1.119591474533081,\n",
       "   1.121253252029419,\n",
       "   1.1228296756744385,\n",
       "   1.124751329421997,\n",
       "   1.1262869834899902],\n",
       "  'val_accuracy': [0.3375000059604645,\n",
       "   0.3499999940395355,\n",
       "   0.3499999940395355,\n",
       "   0.30000001192092896,\n",
       "   0.30000001192092896,\n",
       "   0.26249998807907104,\n",
       "   0.2750000059604645,\n",
       "   0.3125,\n",
       "   0.3375000059604645,\n",
       "   0.32499998807907104,\n",
       "   0.36250001192092896,\n",
       "   0.3499999940395355,\n",
       "   0.3499999940395355,\n",
       "   0.3499999940395355,\n",
       "   0.36250001192092896,\n",
       "   0.36250001192092896,\n",
       "   0.3499999940395355,\n",
       "   0.3499999940395355,\n",
       "   0.3499999940395355,\n",
       "   0.3375000059604645]},\n",
       " 'hyperparameters': {'space': [{'class_name': 'Boolean',\n",
       "    'config': {'name': 'structured_data_block_1/normalize',\n",
       "     'default': False,\n",
       "     'conditions': []}},\n",
       "   {'class_name': 'Boolean',\n",
       "    'config': {'name': 'structured_data_block_1/dense_block_1/use_batchnorm',\n",
       "     'default': False,\n",
       "     'conditions': []}},\n",
       "   {'class_name': 'Choice',\n",
       "    'config': {'name': 'structured_data_block_1/dense_block_1/num_layers',\n",
       "     'default': 2,\n",
       "     'conditions': [],\n",
       "     'values': [1, 2, 3],\n",
       "     'ordered': True}},\n",
       "   {'class_name': 'Choice',\n",
       "    'config': {'name': 'structured_data_block_1/dense_block_1/units_0',\n",
       "     'default': 32,\n",
       "     'conditions': [],\n",
       "     'values': [16, 32, 64, 128, 256, 512, 1024],\n",
       "     'ordered': True}},\n",
       "   {'class_name': 'Choice',\n",
       "    'config': {'name': 'structured_data_block_1/dense_block_1/dropout',\n",
       "     'default': 0.0,\n",
       "     'conditions': [],\n",
       "     'values': [0.0, 0.25, 0.5],\n",
       "     'ordered': True}},\n",
       "   {'class_name': 'Choice',\n",
       "    'config': {'name': 'structured_data_block_1/dense_block_1/units_1',\n",
       "     'default': 32,\n",
       "     'conditions': [],\n",
       "     'values': [16, 32, 64, 128, 256, 512, 1024],\n",
       "     'ordered': True}},\n",
       "   {'class_name': 'Choice',\n",
       "    'config': {'name': 'classification_head_1/dropout',\n",
       "     'default': 0,\n",
       "     'conditions': [],\n",
       "     'values': [0.0, 0.25, 0.5],\n",
       "     'ordered': True}},\n",
       "   {'class_name': 'Choice',\n",
       "    'config': {'name': 'optimizer',\n",
       "     'default': 'adam',\n",
       "     'conditions': [],\n",
       "     'values': ['adam', 'sgd', 'adam_weight_decay'],\n",
       "     'ordered': False}},\n",
       "   {'class_name': 'Choice',\n",
       "    'config': {'name': 'learning_rate',\n",
       "     'default': 0.001,\n",
       "     'conditions': [],\n",
       "     'values': [0.1, 0.01, 0.001, 0.0001, 2e-05, 1e-05],\n",
       "     'ordered': True}}],\n",
       "  'values': {'structured_data_block_1/normalize': True,\n",
       "   'structured_data_block_1/dense_block_1/use_batchnorm': False,\n",
       "   'structured_data_block_1/dense_block_1/num_layers': 2,\n",
       "   'structured_data_block_1/dense_block_1/units_0': 1024,\n",
       "   'structured_data_block_1/dense_block_1/dropout': 0.25,\n",
       "   'structured_data_block_1/dense_block_1/units_1': 32,\n",
       "   'classification_head_1/dropout': 0.0,\n",
       "   'optimizer': 'adam',\n",
       "   'learning_rate': 0.0001}},\n",
       " 'model_graph_url': './structured_data_classifier/best_model/model.png'}"
      ]
     },
     "execution_count": 5,
     "metadata": {},
     "output_type": "execute_result"
    }
   ],
   "source": [
    "from typing import Dict, List, Any, Optional\n",
    "# from pydantic import BaseModel\n",
    "from dataclasses import dataclass\n",
    "from keras.utils import plot_model\n",
    "\n",
    "best_keras_model = clf.tuner.get_best_model()\n",
    "try:\n",
    "    model_file_path = os.path.join(clf.tuner.best_model_path, 'model.png')\n",
    "    plot_model(best_keras_model, to_file=model_file_path, show_layer_activations=True, show_dtype=True, show_shapes=True, show_layer_names=False)\n",
    "except:\n",
    "    model_file_path = None\n",
    "\n",
    "@dataclass\n",
    "class BestModelTracker:\n",
    "    history: Dict[str, Any]\n",
    "    hyperparameters: Dict[str, Any]\n",
    "    model_graph_url: Optional[str]\n",
    "\n",
    "best_model_tracker = BestModelTracker(\n",
    "    history=history.history,\n",
    "    hyperparameters=clf.tuner.get_best_hyperparameters().pop().get_config(),\n",
    "    model_graph_url=model_file_path\n",
    ")\n",
    "best_model_tracker.__dict__"
   ]
  },
  {
   "cell_type": "markdown",
   "metadata": {},
   "source": [
    "# Trial"
   ]
  },
  {
   "cell_type": "code",
   "execution_count": 6,
   "metadata": {},
   "outputs": [
    {
     "data": {
      "text/plain": [
       "{'trial_id': '1',\n",
       " 'hyperparameters': {'space': [{'class_name': 'Boolean',\n",
       "    'config': {'name': 'structured_data_block_1/normalize',\n",
       "     'default': False,\n",
       "     'conditions': []}},\n",
       "   {'class_name': 'Boolean',\n",
       "    'config': {'name': 'structured_data_block_1/dense_block_1/use_batchnorm',\n",
       "     'default': False,\n",
       "     'conditions': []}},\n",
       "   {'class_name': 'Choice',\n",
       "    'config': {'name': 'structured_data_block_1/dense_block_1/num_layers',\n",
       "     'default': 2,\n",
       "     'conditions': [],\n",
       "     'values': [1, 2, 3],\n",
       "     'ordered': True}},\n",
       "   {'class_name': 'Choice',\n",
       "    'config': {'name': 'structured_data_block_1/dense_block_1/units_0',\n",
       "     'default': 32,\n",
       "     'conditions': [],\n",
       "     'values': [16, 32, 64, 128, 256, 512, 1024],\n",
       "     'ordered': True}},\n",
       "   {'class_name': 'Choice',\n",
       "    'config': {'name': 'structured_data_block_1/dense_block_1/dropout',\n",
       "     'default': 0.0,\n",
       "     'conditions': [],\n",
       "     'values': [0.0, 0.25, 0.5],\n",
       "     'ordered': True}},\n",
       "   {'class_name': 'Choice',\n",
       "    'config': {'name': 'structured_data_block_1/dense_block_1/units_1',\n",
       "     'default': 32,\n",
       "     'conditions': [],\n",
       "     'values': [16, 32, 64, 128, 256, 512, 1024],\n",
       "     'ordered': True}},\n",
       "   {'class_name': 'Choice',\n",
       "    'config': {'name': 'classification_head_1/dropout',\n",
       "     'default': 0,\n",
       "     'conditions': [],\n",
       "     'values': [0.0, 0.25, 0.5],\n",
       "     'ordered': True}},\n",
       "   {'class_name': 'Choice',\n",
       "    'config': {'name': 'optimizer',\n",
       "     'default': 'adam',\n",
       "     'conditions': [],\n",
       "     'values': ['adam', 'sgd', 'adam_weight_decay'],\n",
       "     'ordered': False}},\n",
       "   {'class_name': 'Choice',\n",
       "    'config': {'name': 'learning_rate',\n",
       "     'default': 0.001,\n",
       "     'conditions': [],\n",
       "     'values': [0.1, 0.01, 0.001, 0.0001, 2e-05, 1e-05],\n",
       "     'ordered': True}}],\n",
       "  'values': {'structured_data_block_1/normalize': True,\n",
       "   'structured_data_block_1/dense_block_1/use_batchnorm': False,\n",
       "   'structured_data_block_1/dense_block_1/num_layers': 2,\n",
       "   'structured_data_block_1/dense_block_1/units_0': 32,\n",
       "   'structured_data_block_1/dense_block_1/dropout': 0,\n",
       "   'structured_data_block_1/dense_block_1/units_1': 32,\n",
       "   'classification_head_1/dropout': 0.0,\n",
       "   'optimizer': 'adam',\n",
       "   'learning_rate': 1e-05}},\n",
       " 'metrics': {'metrics': {'loss': {'direction': 'min',\n",
       "    'observations': [{'value': [1.1495659351348877], 'step': 19}]},\n",
       "   'accuracy': {'direction': 'max',\n",
       "    'observations': [{'value': [0.3687500059604645], 'step': 19}]},\n",
       "   'val_loss': {'direction': 'min',\n",
       "    'observations': [{'value': [1.1407663822174072], 'step': 19}]},\n",
       "   'val_accuracy': {'direction': 'max',\n",
       "    'observations': [{'value': [0.375], 'step': 19}]}}},\n",
       " 'score': 0.375,\n",
       " 'best_step': 19,\n",
       " 'status': 'COMPLETED',\n",
       " 'message': None}"
      ]
     },
     "execution_count": 6,
     "metadata": {},
     "output_type": "execute_result"
    }
   ],
   "source": [
    "clf.tuner.oracle.get_trial('1').get_state()"
   ]
  },
  {
   "cell_type": "code",
   "execution_count": 7,
   "metadata": {},
   "outputs": [
    {
     "name": "stderr",
     "output_type": "stream",
     "text": [
      "WARNING:absl:At this time, the v2.11+ optimizer `tf.keras.optimizers.Adam` runs slowly on M1/M2 Macs, please use the legacy Keras optimizer instead, located at `tf.keras.optimizers.legacy.Adam`.\n",
      "WARNING:absl:At this time, the v2.11+ optimizer `tf.keras.optimizers.Adam` runs slowly on M1/M2 Macs, please use the legacy Keras optimizer instead, located at `tf.keras.optimizers.legacy.Adam`.\n",
      "WARNING:absl:At this time, the v2.11+ optimizer `tf.keras.optimizers.Adam` runs slowly on M1/M2 Macs, please use the legacy Keras optimizer instead, located at `tf.keras.optimizers.legacy.Adam`.\n",
      "WARNING:absl:At this time, the v2.11+ optimizer `tf.keras.optimizers.Adam` runs slowly on M1/M2 Macs, please use the legacy Keras optimizer instead, located at `tf.keras.optimizers.legacy.Adam`.\n",
      "WARNING:absl:At this time, the v2.11+ optimizer `tf.keras.optimizers.Adam` runs slowly on M1/M2 Macs, please use the legacy Keras optimizer instead, located at `tf.keras.optimizers.legacy.Adam`.\n"
     ]
    },
    {
     "data": {
      "text/plain": [
       "{'trials': [Trial(trial_id='4', hyperparameters={'space': [{'class_name': 'Boolean', 'config': {'name': 'structured_data_block_1/normalize', 'default': False, 'conditions': []}}, {'class_name': 'Boolean', 'config': {'name': 'structured_data_block_1/dense_block_1/use_batchnorm', 'default': False, 'conditions': []}}, {'class_name': 'Choice', 'config': {'name': 'structured_data_block_1/dense_block_1/num_layers', 'default': 2, 'conditions': [], 'values': [1, 2, 3], 'ordered': True}}, {'class_name': 'Choice', 'config': {'name': 'structured_data_block_1/dense_block_1/units_0', 'default': 32, 'conditions': [], 'values': [16, 32, 64, 128, 256, 512, 1024], 'ordered': True}}, {'class_name': 'Choice', 'config': {'name': 'structured_data_block_1/dense_block_1/dropout', 'default': 0.0, 'conditions': [], 'values': [0.0, 0.25, 0.5], 'ordered': True}}, {'class_name': 'Choice', 'config': {'name': 'structured_data_block_1/dense_block_1/units_1', 'default': 32, 'conditions': [], 'values': [16, 32, 64, 128, 256, 512, 1024], 'ordered': True}}, {'class_name': 'Choice', 'config': {'name': 'classification_head_1/dropout', 'default': 0, 'conditions': [], 'values': [0.0, 0.25, 0.5], 'ordered': True}}, {'class_name': 'Choice', 'config': {'name': 'optimizer', 'default': 'adam', 'conditions': [], 'values': ['adam', 'sgd', 'adam_weight_decay'], 'ordered': False}}, {'class_name': 'Choice', 'config': {'name': 'learning_rate', 'default': 0.001, 'conditions': [], 'values': [0.1, 0.01, 0.001, 0.0001, 2e-05, 1e-05], 'ordered': True}}], 'values': {'structured_data_block_1/normalize': True, 'structured_data_block_1/dense_block_1/use_batchnorm': False, 'structured_data_block_1/dense_block_1/num_layers': 2, 'structured_data_block_1/dense_block_1/units_0': 1024, 'structured_data_block_1/dense_block_1/dropout': 0.25, 'structured_data_block_1/dense_block_1/units_1': 32, 'classification_head_1/dropout': 0.0, 'optimizer': 'adam', 'learning_rate': 0.0001}}, metrics={'metrics': {'loss': {'direction': 'min', 'observations': [{'value': [1.0563733577728271], 'step': 7}]}, 'accuracy': {'direction': 'max', 'observations': [{'value': [0.4375], 'step': 7}]}, 'val_loss': {'direction': 'min', 'observations': [{'value': [1.1012808084487915], 'step': 7}]}, 'val_accuracy': {'direction': 'max', 'observations': [{'value': [0.4375], 'step': 7}]}}}, score=0.4375, best_step=7, status='COMPLETED', model_graph_url='./structured_data_classifier/trial_4/model.png', message=None),\n",
       "  Trial(trial_id='3', hyperparameters={'space': [{'class_name': 'Boolean', 'config': {'name': 'structured_data_block_1/normalize', 'default': False, 'conditions': []}}, {'class_name': 'Boolean', 'config': {'name': 'structured_data_block_1/dense_block_1/use_batchnorm', 'default': False, 'conditions': []}}, {'class_name': 'Choice', 'config': {'name': 'structured_data_block_1/dense_block_1/num_layers', 'default': 2, 'conditions': [], 'values': [1, 2, 3], 'ordered': True}}, {'class_name': 'Choice', 'config': {'name': 'structured_data_block_1/dense_block_1/units_0', 'default': 32, 'conditions': [], 'values': [16, 32, 64, 128, 256, 512, 1024], 'ordered': True}}, {'class_name': 'Choice', 'config': {'name': 'structured_data_block_1/dense_block_1/dropout', 'default': 0.0, 'conditions': [], 'values': [0.0, 0.25, 0.5], 'ordered': True}}, {'class_name': 'Choice', 'config': {'name': 'structured_data_block_1/dense_block_1/units_1', 'default': 32, 'conditions': [], 'values': [16, 32, 64, 128, 256, 512, 1024], 'ordered': True}}, {'class_name': 'Choice', 'config': {'name': 'classification_head_1/dropout', 'default': 0, 'conditions': [], 'values': [0.0, 0.25, 0.5], 'ordered': True}}, {'class_name': 'Choice', 'config': {'name': 'optimizer', 'default': 'adam', 'conditions': [], 'values': ['adam', 'sgd', 'adam_weight_decay'], 'ordered': False}}, {'class_name': 'Choice', 'config': {'name': 'learning_rate', 'default': 0.001, 'conditions': [], 'values': [0.1, 0.01, 0.001, 0.0001, 2e-05, 1e-05], 'ordered': True}}], 'values': {'structured_data_block_1/normalize': True, 'structured_data_block_1/dense_block_1/use_batchnorm': False, 'structured_data_block_1/dense_block_1/num_layers': 2, 'structured_data_block_1/dense_block_1/units_0': 1024, 'structured_data_block_1/dense_block_1/dropout': 0, 'structured_data_block_1/dense_block_1/units_1': 32, 'classification_head_1/dropout': 0.0, 'optimizer': 'adam', 'learning_rate': 0.0001}}, metrics={'metrics': {'loss': {'direction': 'min', 'observations': [{'value': [1.1024407148361206], 'step': 0}]}, 'accuracy': {'direction': 'max', 'observations': [{'value': [0.34062498807907104], 'step': 0}]}, 'val_loss': {'direction': 'min', 'observations': [{'value': [1.0942126512527466], 'step': 0}]}, 'val_accuracy': {'direction': 'max', 'observations': [{'value': [0.4000000059604645], 'step': 0}]}}}, score=0.4000000059604645, best_step=0, status='COMPLETED', model_graph_url='./structured_data_classifier/trial_3/model.png', message=None),\n",
       "  Trial(trial_id='2', hyperparameters={'space': [{'class_name': 'Boolean', 'config': {'name': 'structured_data_block_1/normalize', 'default': False, 'conditions': []}}, {'class_name': 'Boolean', 'config': {'name': 'structured_data_block_1/dense_block_1/use_batchnorm', 'default': False, 'conditions': []}}, {'class_name': 'Choice', 'config': {'name': 'structured_data_block_1/dense_block_1/num_layers', 'default': 2, 'conditions': [], 'values': [1, 2, 3], 'ordered': True}}, {'class_name': 'Choice', 'config': {'name': 'structured_data_block_1/dense_block_1/units_0', 'default': 32, 'conditions': [], 'values': [16, 32, 64, 128, 256, 512, 1024], 'ordered': True}}, {'class_name': 'Choice', 'config': {'name': 'structured_data_block_1/dense_block_1/dropout', 'default': 0.0, 'conditions': [], 'values': [0.0, 0.25, 0.5], 'ordered': True}}, {'class_name': 'Choice', 'config': {'name': 'structured_data_block_1/dense_block_1/units_1', 'default': 32, 'conditions': [], 'values': [16, 32, 64, 128, 256, 512, 1024], 'ordered': True}}, {'class_name': 'Choice', 'config': {'name': 'classification_head_1/dropout', 'default': 0, 'conditions': [], 'values': [0.0, 0.25, 0.5], 'ordered': True}}, {'class_name': 'Choice', 'config': {'name': 'optimizer', 'default': 'adam', 'conditions': [], 'values': ['adam', 'sgd', 'adam_weight_decay'], 'ordered': False}}, {'class_name': 'Choice', 'config': {'name': 'learning_rate', 'default': 0.001, 'conditions': [], 'values': [0.1, 0.01, 0.001, 0.0001, 2e-05, 1e-05], 'ordered': True}}], 'values': {'structured_data_block_1/normalize': True, 'structured_data_block_1/dense_block_1/use_batchnorm': False, 'structured_data_block_1/dense_block_1/num_layers': 2, 'structured_data_block_1/dense_block_1/units_0': 1024, 'structured_data_block_1/dense_block_1/dropout': 0, 'structured_data_block_1/dense_block_1/units_1': 32, 'classification_head_1/dropout': 0.0, 'optimizer': 'adam', 'learning_rate': 1e-05}}, metrics={'metrics': {'loss': {'direction': 'min', 'observations': [{'value': [1.0744422674179077], 'step': 18}]}, 'accuracy': {'direction': 'max', 'observations': [{'value': [0.3843750059604645], 'step': 18}]}, 'val_loss': {'direction': 'min', 'observations': [{'value': [1.1087297201156616], 'step': 18}]}, 'val_accuracy': {'direction': 'max', 'observations': [{'value': [0.38749998807907104], 'step': 18}]}}}, score=0.38749998807907104, best_step=18, status='COMPLETED', model_graph_url='./structured_data_classifier/trial_2/model.png', message=None),\n",
       "  Trial(trial_id='1', hyperparameters={'space': [{'class_name': 'Boolean', 'config': {'name': 'structured_data_block_1/normalize', 'default': False, 'conditions': []}}, {'class_name': 'Boolean', 'config': {'name': 'structured_data_block_1/dense_block_1/use_batchnorm', 'default': False, 'conditions': []}}, {'class_name': 'Choice', 'config': {'name': 'structured_data_block_1/dense_block_1/num_layers', 'default': 2, 'conditions': [], 'values': [1, 2, 3], 'ordered': True}}, {'class_name': 'Choice', 'config': {'name': 'structured_data_block_1/dense_block_1/units_0', 'default': 32, 'conditions': [], 'values': [16, 32, 64, 128, 256, 512, 1024], 'ordered': True}}, {'class_name': 'Choice', 'config': {'name': 'structured_data_block_1/dense_block_1/dropout', 'default': 0.0, 'conditions': [], 'values': [0.0, 0.25, 0.5], 'ordered': True}}, {'class_name': 'Choice', 'config': {'name': 'structured_data_block_1/dense_block_1/units_1', 'default': 32, 'conditions': [], 'values': [16, 32, 64, 128, 256, 512, 1024], 'ordered': True}}, {'class_name': 'Choice', 'config': {'name': 'classification_head_1/dropout', 'default': 0, 'conditions': [], 'values': [0.0, 0.25, 0.5], 'ordered': True}}, {'class_name': 'Choice', 'config': {'name': 'optimizer', 'default': 'adam', 'conditions': [], 'values': ['adam', 'sgd', 'adam_weight_decay'], 'ordered': False}}, {'class_name': 'Choice', 'config': {'name': 'learning_rate', 'default': 0.001, 'conditions': [], 'values': [0.1, 0.01, 0.001, 0.0001, 2e-05, 1e-05], 'ordered': True}}], 'values': {'structured_data_block_1/normalize': True, 'structured_data_block_1/dense_block_1/use_batchnorm': False, 'structured_data_block_1/dense_block_1/num_layers': 2, 'structured_data_block_1/dense_block_1/units_0': 32, 'structured_data_block_1/dense_block_1/dropout': 0, 'structured_data_block_1/dense_block_1/units_1': 32, 'classification_head_1/dropout': 0.0, 'optimizer': 'adam', 'learning_rate': 1e-05}}, metrics={'metrics': {'loss': {'direction': 'min', 'observations': [{'value': [1.1495659351348877], 'step': 19}]}, 'accuracy': {'direction': 'max', 'observations': [{'value': [0.3687500059604645], 'step': 19}]}, 'val_loss': {'direction': 'min', 'observations': [{'value': [1.1407663822174072], 'step': 19}]}, 'val_accuracy': {'direction': 'max', 'observations': [{'value': [0.375], 'step': 19}]}}}, score=0.375, best_step=19, status='COMPLETED', model_graph_url='./structured_data_classifier/trial_1/model.png', message=None),\n",
       "  Trial(trial_id='0', hyperparameters={'space': [{'class_name': 'Boolean', 'config': {'name': 'structured_data_block_1/normalize', 'default': False, 'conditions': []}}, {'class_name': 'Boolean', 'config': {'name': 'structured_data_block_1/dense_block_1/use_batchnorm', 'default': False, 'conditions': []}}, {'class_name': 'Choice', 'config': {'name': 'structured_data_block_1/dense_block_1/num_layers', 'default': 2, 'conditions': [], 'values': [1, 2, 3], 'ordered': True}}, {'class_name': 'Choice', 'config': {'name': 'structured_data_block_1/dense_block_1/units_0', 'default': 32, 'conditions': [], 'values': [16, 32, 64, 128, 256, 512, 1024], 'ordered': True}}, {'class_name': 'Choice', 'config': {'name': 'structured_data_block_1/dense_block_1/dropout', 'default': 0.0, 'conditions': [], 'values': [0.0, 0.25, 0.5], 'ordered': True}}, {'class_name': 'Choice', 'config': {'name': 'structured_data_block_1/dense_block_1/units_1', 'default': 32, 'conditions': [], 'values': [16, 32, 64, 128, 256, 512, 1024], 'ordered': True}}, {'class_name': 'Choice', 'config': {'name': 'classification_head_1/dropout', 'default': 0, 'conditions': [], 'values': [0.0, 0.25, 0.5], 'ordered': True}}, {'class_name': 'Choice', 'config': {'name': 'optimizer', 'default': 'adam', 'conditions': [], 'values': ['adam', 'sgd', 'adam_weight_decay'], 'ordered': False}}, {'class_name': 'Choice', 'config': {'name': 'learning_rate', 'default': 0.001, 'conditions': [], 'values': [0.1, 0.01, 0.001, 0.0001, 2e-05, 1e-05], 'ordered': True}}], 'values': {'structured_data_block_1/normalize': True, 'structured_data_block_1/dense_block_1/num_layers': 2, 'structured_data_block_1/dense_block_1/use_batchnorm': False, 'structured_data_block_1/dense_block_1/dropout': 0, 'structured_data_block_1/dense_block_1/units_0': 32, 'structured_data_block_1/dense_block_1/units_1': 32, 'classification_head_1/dropout': 0.0, 'optimizer': 'adam', 'learning_rate': 0.001}}, metrics={'metrics': {'loss': {'direction': 'min', 'observations': [{'value': [0.9904524087905884], 'step': 10}]}, 'accuracy': {'direction': 'max', 'observations': [{'value': [0.543749988079071], 'step': 10}]}, 'val_loss': {'direction': 'min', 'observations': [{'value': [1.1558310985565186], 'step': 10}]}, 'val_accuracy': {'direction': 'max', 'observations': [{'value': [0.3375000059604645], 'step': 10}]}}}, score=0.3375000059604645, best_step=10, status='COMPLETED', model_graph_url='./structured_data_classifier/trial_0/model.png', message=None)]}"
      ]
     },
     "execution_count": 7,
     "metadata": {},
     "output_type": "execute_result"
    }
   ],
   "source": [
    "from dataclasses import dataclass\n",
    "from typing import Any, Optional, List, Dict\n",
    "\n",
    "\n",
    "@dataclass \n",
    "class Trial:\n",
    "    trial_id: str\n",
    "    hyperparameters: Dict[str, Any]\n",
    "    metrics: Dict[str, Any]\n",
    "    score: float\n",
    "    best_step: int\n",
    "    status: str\n",
    "    model_graph_url: Optional[str]\n",
    "    message: Any\n",
    "\n",
    "@dataclass \n",
    "class TrialsTracker:\n",
    "    trials: List[Trial]\n",
    "\n",
    "max_trials = 5\n",
    "trials = []\n",
    "models = clf.tuner.get_best_models(max_trials)\n",
    "index = 0\n",
    "for trial in clf.tuner.oracle.get_best_trials(max_trials):\n",
    "    try:\n",
    "        model_file_path = os.path.join(clf.tuner.get_trial_dir(trial_id=trial.trial_id), 'model.png')\n",
    "        plot_model(model=models[index], to_file=model_file_path, show_layer_activations=True, show_dtype=True, show_shapes=True, show_layer_names=False)\n",
    "    except:\n",
    "        model_file_path = None\n",
    "    index += 1\n",
    "    trials.append(Trial(\n",
    "        **trial.get_state(),\n",
    "        model_graph_url=model_file_path\n",
    "    ))\n",
    "trials_tracker = TrialsTracker(trials=trials)\n",
    "trials_tracker.__dict__\n"
   ]
  },
  {
   "cell_type": "code",
   "execution_count": 2,
   "metadata": {},
   "outputs": [
    {
     "name": "stdout",
     "output_type": "stream",
     "text": [
      "     淬透性  淬透性\n",
      "0      0    0\n",
      "1      1    1\n",
      "2      0    0\n",
      "3     -1   -1\n",
      "4     -1   -1\n",
      "..   ...  ...\n",
      "495   -1   -1\n",
      "496    0    0\n",
      "497    0    0\n",
      "498    1    1\n",
      "499    0    0\n",
      "\n",
      "[500 rows x 2 columns]\n",
      "../autotrain/datasets/extracted-structured-data-classification.csv\n"
     ]
    }
   ],
   "source": [
    "import os\n",
    "import pandas as pd\n",
    "\n",
    "inputs = os.path.join(os.path.pardir, 'autotrain', 'datasets', 'structured-data-classification.csv')\n",
    "\n",
    "datasets = pd.read_csv(inputs)\n",
    "best_feature_index = [-1]\n",
    "best_feature_index.append(-1)\n",
    "extracted_datasets = datasets.iloc[:, best_feature_index]\n",
    "print(extracted_datasets)\n",
    "\n",
    "extracted_file_name = '-'.join(['extracted', os.path.basename(inputs)])\n",
    "parent_dir = os.path.dirname(inputs)\n",
    "\n",
    "extracted_file_path = os.path.join(parent_dir, extracted_file_name)\n",
    "print(extracted_file_path)\n",
    "\n",
    "extracted_datasets.to_csv(extracted_file_path, index=False)"
   ]
  },
  {
   "cell_type": "code",
   "execution_count": null,
   "metadata": {},
   "outputs": [],
   "source": []
  }
 ],
 "metadata": {
  "kernelspec": {
   "display_name": "automl-merge",
   "language": "python",
   "name": "python3"
  },
  "language_info": {
   "codemirror_mode": {
    "name": "ipython",
    "version": 3
   },
   "file_extension": ".py",
   "mimetype": "text/x-python",
   "name": "python",
   "nbconvert_exporter": "python",
   "pygments_lexer": "ipython3",
   "version": "3.9.18"
  }
 },
 "nbformat": 4,
 "nbformat_minor": 2
}
